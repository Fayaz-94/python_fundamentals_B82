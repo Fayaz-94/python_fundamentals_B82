{
 "cells": [
  {
   "cell_type": "code",
   "execution_count": null,
   "id": "f06f8a57",
   "metadata": {},
   "outputs": [],
   "source": [
    "Introduction to python programming :"
   ]
  },
  {
   "cell_type": "code",
   "execution_count": null,
   "id": "7109696a",
   "metadata": {},
   "outputs": [],
   "source": []
  },
  {
   "cell_type": "code",
   "execution_count": null,
   "id": "7bd419ff",
   "metadata": {},
   "outputs": [],
   "source": [
    "understanding the variables in python :"
   ]
  },
  {
   "cell_type": "code",
   "execution_count": null,
   "id": "4effc0dd",
   "metadata": {},
   "outputs": [],
   "source": []
  },
  {
   "cell_type": "code",
   "execution_count": 1,
   "id": "54257fba",
   "metadata": {},
   "outputs": [],
   "source": [
    "x = 2\n",
    "y = 3"
   ]
  },
  {
   "cell_type": "code",
   "execution_count": 2,
   "id": "153eea55",
   "metadata": {},
   "outputs": [
    {
     "name": "stdout",
     "output_type": "stream",
     "text": [
      "5\n"
     ]
    }
   ],
   "source": [
    "z = x+y\n",
    "\n",
    "print(z)"
   ]
  },
  {
   "cell_type": "code",
   "execution_count": null,
   "id": "83b20fbb",
   "metadata": {},
   "outputs": [],
   "source": []
  },
  {
   "cell_type": "code",
   "execution_count": null,
   "id": "4a0591ed",
   "metadata": {},
   "outputs": [],
   "source": [
    "Rules for declaring the variables :"
   ]
  },
  {
   "cell_type": "code",
   "execution_count": null,
   "id": "b2f57e45",
   "metadata": {},
   "outputs": [],
   "source": [
    "Rule No - 1 : No namespaces while declaring the variable name "
   ]
  },
  {
   "cell_type": "code",
   "execution_count": 3,
   "id": "eb1ad0a1",
   "metadata": {},
   "outputs": [
    {
     "ename": "SyntaxError",
     "evalue": "invalid syntax (3242007496.py, line 1)",
     "output_type": "error",
     "traceback": [
      "\u001b[1;36m  Input \u001b[1;32mIn [3]\u001b[1;36m\u001b[0m\n\u001b[1;33m    first name = 'Faiyaz'\u001b[0m\n\u001b[1;37m          ^\u001b[0m\n\u001b[1;31mSyntaxError\u001b[0m\u001b[1;31m:\u001b[0m invalid syntax\n"
     ]
    }
   ],
   "source": [
    "first name = 'Faiyaz'\n",
    "\n",
    "print(first name)"
   ]
  },
  {
   "cell_type": "code",
   "execution_count": 4,
   "id": "0bbfeae5",
   "metadata": {},
   "outputs": [
    {
     "name": "stdout",
     "output_type": "stream",
     "text": [
      "faiyaz\n"
     ]
    }
   ],
   "source": [
    "firstname = 'faiyaz'\n",
    "\n",
    "print(firstname)"
   ]
  },
  {
   "cell_type": "code",
   "execution_count": 5,
   "id": "9392365e",
   "metadata": {},
   "outputs": [
    {
     "name": "stdout",
     "output_type": "stream",
     "text": [
      "Faiyaz\n"
     ]
    }
   ],
   "source": [
    "first_name = 'Faiyaz'\n",
    "\n",
    "print(first_name)"
   ]
  },
  {
   "cell_type": "code",
   "execution_count": null,
   "id": "dc6aa5ea",
   "metadata": {},
   "outputs": [],
   "source": [
    "Rule No 2 : A variable name should not start with a number **"
   ]
  },
  {
   "cell_type": "code",
   "execution_count": 6,
   "id": "05875ce2",
   "metadata": {},
   "outputs": [
    {
     "ename": "SyntaxError",
     "evalue": "invalid syntax (1439544744.py, line 1)",
     "output_type": "error",
     "traceback": [
      "\u001b[1;36m  Input \u001b[1;32mIn [6]\u001b[1;36m\u001b[0m\n\u001b[1;33m    1name = 'james'\u001b[0m\n\u001b[1;37m     ^\u001b[0m\n\u001b[1;31mSyntaxError\u001b[0m\u001b[1;31m:\u001b[0m invalid syntax\n"
     ]
    }
   ],
   "source": [
    "1name = 'james'\n",
    "\n",
    "print(1name)"
   ]
  },
  {
   "cell_type": "code",
   "execution_count": 7,
   "id": "2352bfc6",
   "metadata": {},
   "outputs": [
    {
     "name": "stdout",
     "output_type": "stream",
     "text": [
      "james\n"
     ]
    }
   ],
   "source": [
    "name1 = 'james'\n",
    "\n",
    "print(name1)"
   ]
  },
  {
   "cell_type": "code",
   "execution_count": null,
   "id": "e9b25034",
   "metadata": {},
   "outputs": [],
   "source": [
    "Rule no 3 : A variable name should not contain any special characters"
   ]
  },
  {
   "cell_type": "code",
   "execution_count": null,
   "id": "ae23bd25",
   "metadata": {},
   "outputs": [],
   "source": [
    "! @ # $ &"
   ]
  },
  {
   "cell_type": "code",
   "execution_count": 8,
   "id": "86dc14a0",
   "metadata": {},
   "outputs": [
    {
     "ename": "SyntaxError",
     "evalue": "invalid syntax (4017470715.py, line 1)",
     "output_type": "error",
     "traceback": [
      "\u001b[1;36m  Input \u001b[1;32mIn [8]\u001b[1;36m\u001b[0m\n\u001b[1;33m    name@ = 'fouzia'\u001b[0m\n\u001b[1;37m          ^\u001b[0m\n\u001b[1;31mSyntaxError\u001b[0m\u001b[1;31m:\u001b[0m invalid syntax\n"
     ]
    }
   ],
   "source": [
    "name@ = 'fouzia'\n",
    "\n",
    "print(name@)"
   ]
  },
  {
   "cell_type": "code",
   "execution_count": null,
   "id": "5ff4e4aa",
   "metadata": {},
   "outputs": [],
   "source": []
  },
  {
   "cell_type": "code",
   "execution_count": null,
   "id": "ef1090f0",
   "metadata": {},
   "outputs": [],
   "source": [
    "Introduction to Datatypes :\n",
    "    \n",
    "    1. Strings ==========> str\n",
    "    \n",
    "    2. Number ====> integers ----> int , floats( decimals) ==> 0.1, 0.2 ====> float\n",
    "    \n",
    "    3. Lists ====> list\n",
    "    \n",
    "    4. tuples ====> tuple\n",
    "    \n",
    "    5. Dictionaries ========> dict"
   ]
  },
  {
   "cell_type": "code",
   "execution_count": null,
   "id": "194d3854",
   "metadata": {},
   "outputs": [],
   "source": []
  },
  {
   "cell_type": "code",
   "execution_count": null,
   "id": "2d188b47",
   "metadata": {},
   "outputs": [],
   "source": [
    "classification of datatypes :\n",
    "    \n",
    "    Broadly data types are classified in to two different categeories \n",
    "    \n",
    "    1.Mutable datatypes =====> which we can able to edit / alter  =====> flexible in nature\n",
    "    \n",
    "    2.Immutable datatypes ====> which we cannot able to edit / alter ====> fixed in nature"
   ]
  },
  {
   "cell_type": "code",
   "execution_count": null,
   "id": "3e777754",
   "metadata": {},
   "outputs": [],
   "source": []
  },
  {
   "cell_type": "code",
   "execution_count": 12,
   "id": "37d2a4d6",
   "metadata": {},
   "outputs": [],
   "source": [
    "#introduction to string datatype :\n",
    "    \n",
    "#Defination : A string is nothing but a series of characters declared in quotes.\n",
    "    \n",
    "#classification : it is an immutable datatype\n",
    "    \n",
    "#how to define the string ======?\n",
    "\n",
    "#1. single quote\n",
    "\n",
    "#2. double quote"
   ]
  },
  {
   "cell_type": "code",
   "execution_count": null,
   "id": "d9dae2fb",
   "metadata": {},
   "outputs": [],
   "source": []
  },
  {
   "cell_type": "code",
   "execution_count": 9,
   "id": "a0f03aba",
   "metadata": {},
   "outputs": [
    {
     "name": "stdout",
     "output_type": "stream",
     "text": [
      "dhaval\n"
     ]
    }
   ],
   "source": [
    "a = 'dhaval'  # single quote\n",
    "\n",
    "print(a)"
   ]
  },
  {
   "cell_type": "code",
   "execution_count": 10,
   "id": "86edf344",
   "metadata": {},
   "outputs": [
    {
     "name": "stdout",
     "output_type": "stream",
     "text": [
      "parul\n"
     ]
    }
   ],
   "source": [
    "b = \"parul\"   # double quote\n",
    "\n",
    "print(b)"
   ]
  },
  {
   "cell_type": "code",
   "execution_count": null,
   "id": "2fac4bf1",
   "metadata": {},
   "outputs": [],
   "source": [
    "# is used for commenting the lines."
   ]
  },
  {
   "cell_type": "code",
   "execution_count": null,
   "id": "b1c25905",
   "metadata": {},
   "outputs": [],
   "source": []
  }
 ],
 "metadata": {
  "kernelspec": {
   "display_name": "Python 3 (ipykernel)",
   "language": "python",
   "name": "python3"
  },
  "language_info": {
   "codemirror_mode": {
    "name": "ipython",
    "version": 3
   },
   "file_extension": ".py",
   "mimetype": "text/x-python",
   "name": "python",
   "nbconvert_exporter": "python",
   "pygments_lexer": "ipython3",
   "version": "3.9.12"
  }
 },
 "nbformat": 4,
 "nbformat_minor": 5
}
